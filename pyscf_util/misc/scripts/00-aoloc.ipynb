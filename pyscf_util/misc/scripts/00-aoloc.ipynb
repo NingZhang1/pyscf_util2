{
 "cells": [
  {
   "cell_type": "code",
   "execution_count": null,
   "metadata": {},
   "outputs": [],
   "source": [
    "from pyscf_util.misc.mole import get_mol\n",
    "from pyscf_util.MeanField.scf import kernel as scf\n",
    "from pyscf.tools import mo_mapping\n",
    "import numpy"
   ]
  },
  {
   "cell_type": "code",
   "execution_count": null,
   "metadata": {},
   "outputs": [],
   "source": [
    "molecule = get_mol(\n",
    "    xyz=\"\"\"\n",
    "C1 0.         0.         0.002402  \n",
    "O2 0.         0.         2.12996496\n",
    "\"\"\",\n",
    "    spin=0,\n",
    "    charge=0,\n",
    "    basis=\"cc-pvdz\",\n",
    "    unit=\"Bohr\",\n",
    ")"
   ]
  },
  {
   "cell_type": "code",
   "execution_count": null,
   "metadata": {},
   "outputs": [],
   "source": [
    "for label in molecule.ao_labels(None):\n",
    "    if label[2] == '2p' and label[3] == 'z':\n",
    "        print(label)"
   ]
  },
  {
   "cell_type": "code",
   "execution_count": null,
   "metadata": {},
   "outputs": [],
   "source": [
    "idx = molecule.search_ao_label(['C1.*'])\n",
    "print(idx)"
   ]
  },
  {
   "cell_type": "code",
   "execution_count": null,
   "metadata": {},
   "outputs": [],
   "source": [
    "def classify_orbitals(mo_energy, threshold=1e-5, verbose=False):\n",
    "    \n",
    "    # 初始化分组\n",
    "    groups = []\n",
    "    current_group = [mo_energy[0]]\n",
    "    \n",
    "    # 根据阈值对能量值进行分组\n",
    "    for energy in mo_energy[1:]:\n",
    "        if energy - current_group[-1] <= threshold:\n",
    "            current_group.append(energy)\n",
    "        else:\n",
    "            groups.append(current_group)\n",
    "            current_group = [energy]\n",
    "    groups.append(current_group)\n",
    "    \n",
    "    principle_number = {\n",
    "        \"s\": 1,\n",
    "        \"p\": 2,\n",
    "        \"d\": 3,\n",
    "        \"f\": 4,\n",
    "        \"g\": 5,\n",
    "        \"h\": 6,\n",
    "        \"i\": 7\n",
    "    }\n",
    "    \n",
    "    # 确定每组的轨道类型\n",
    "    orbital_types = []\n",
    "    for group in groups:\n",
    "        count = len(group)\n",
    "        if count == 1:\n",
    "            orbital_types.extend([f'{principle_number[\"s\"]}s'] * count)\n",
    "            principle_number['s'] += 1\n",
    "        elif count == 3:\n",
    "            orbital_types.extend([f'{principle_number[\"p\"]}p'] * count)\n",
    "            principle_number['p'] += 1\n",
    "        elif count == 5:\n",
    "            orbital_types.extend([f'{principle_number[\"d\"]}d'] * count)\n",
    "            principle_number['d'] += 1\n",
    "        elif count == 7:\n",
    "            orbital_types.extend([f'{principle_number[\"f\"]}f'] * count)\n",
    "            principle_number['f'] += 1\n",
    "        elif count == 9:\n",
    "            orbital_types.extend([f'{principle_number[\"g\"]}g'] * count)\n",
    "            principle_number['g'] += 1\n",
    "        elif count == 11:\n",
    "            orbital_types.extend([f'{principle_number[\"h\"]}h'] * count)\n",
    "            principle_number['h'] += 1\n",
    "        elif count == 13:\n",
    "            orbital_types.extend([f'{principle_number[\"i\"]}i'] * count)\n",
    "            principle_number['i'] += 1\n",
    "        else:\n",
    "            orbital_types.extend(['unknown'] * count)\n",
    "    \n",
    "    # 打印结果\n",
    "    if verbose:\n",
    "        print(\"能量\\t\\t轨道类型\")\n",
    "        for energy, orbital_type in zip(mo_energy, orbital_types):\n",
    "            print(f\"{energy:15.6f}\\t\\t{orbital_type}\")\n",
    "    \n",
    "    return orbital_types"
   ]
  },
  {
   "cell_type": "code",
   "execution_count": null,
   "metadata": {},
   "outputs": [],
   "source": [
    "from pyscf_util._atmMinCASOrb._orb_loader import LoadAtmHFOrbAllInfo, LoadAtmHFOrbGivenType\n",
    "\n",
    "info = LoadAtmHFOrbAllInfo(\"C\", 0, \"cc-pvdz\", with_sfx2c=True)\n",
    "\n",
    "classify_orbitals(info['mo_energy'], verbose=True)"
   ]
  },
  {
   "cell_type": "code",
   "execution_count": null,
   "metadata": {},
   "outputs": [],
   "source": [
    "info = LoadAtmHFOrbAllInfo(\"N\", 0, \"cc-pvdz\", with_sfx2c=True)"
   ]
  },
  {
   "cell_type": "code",
   "execution_count": null,
   "metadata": {},
   "outputs": [],
   "source": [
    "info = LoadAtmHFOrbAllInfo(\"O\", 0, \"cc-pvdz\", with_sfx2c=True)"
   ]
  },
  {
   "cell_type": "code",
   "execution_count": null,
   "metadata": {},
   "outputs": [],
   "source": [
    "info = LoadAtmHFOrbAllInfo(\"F\", 0, \"cc-pvdz\", with_sfx2c=True)"
   ]
  },
  {
   "cell_type": "code",
   "execution_count": null,
   "metadata": {},
   "outputs": [],
   "source": [
    "info = LoadAtmHFOrbAllInfo(\"Si\", 0, \"unc-cc-pvdz\", with_sfx2c=True)\n",
    "classify_orbitals(info['mo_energy'], verbose=True)\n",
    "print(LoadAtmHFOrbGivenType(\"Si\", 0, \"unc-cc-pvdz\", with_sfx2c=True, orb_symbol=[\"2p\", \"3p\"]))"
   ]
  },
  {
   "cell_type": "code",
   "execution_count": null,
   "metadata": {},
   "outputs": [],
   "source": [
    "info = LoadAtmHFOrbAllInfo(\"H\", 0, \"unc-cc-pvdz\", with_sfx2c=True)\n",
    "classify_orbitals(info['mo_energy'], verbose=True)"
   ]
  }
 ],
 "metadata": {
  "kernelspec": {
   "display_name": "pyscf_isdf",
   "language": "python",
   "name": "python3"
  },
  "language_info": {
   "codemirror_mode": {
    "name": "ipython",
    "version": 3
   },
   "file_extension": ".py",
   "mimetype": "text/x-python",
   "name": "python",
   "nbconvert_exporter": "python",
   "pygments_lexer": "ipython3",
   "version": "3.10.13"
  }
 },
 "nbformat": 4,
 "nbformat_minor": 2
}
