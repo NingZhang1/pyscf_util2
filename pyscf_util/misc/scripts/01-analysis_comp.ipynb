{
 "cells": [
  {
   "cell_type": "code",
   "execution_count": null,
   "metadata": {},
   "outputs": [],
   "source": [
    "from pyscf_util.misc.mole import get_mol\n",
    "from pyscf_util.MeanField.scf import kernel as scf\n",
    "import numpy\n",
    "import numpy as np\n",
    "from pyscf.data.elements import _std_symbol"
   ]
  },
  {
   "cell_type": "code",
   "execution_count": null,
   "metadata": {},
   "outputs": [],
   "source": [
    "molecule = get_mol(\n",
    "    xyz=\"\"\"\n",
    "C1 0.         0.         0.002402  \n",
    "O2 0.         0.         2.12996496\n",
    "\"\"\",\n",
    "    spin=0,\n",
    "    charge=0,\n",
    "    basis=\"cc-pvdz\",\n",
    "    unit=\"Bohr\",\n",
    ")"
   ]
  },
  {
   "cell_type": "code",
   "execution_count": null,
   "metadata": {},
   "outputs": [],
   "source": [
    "hf_res = scf(molecule)"
   ]
  },
  {
   "cell_type": "code",
   "execution_count": null,
   "metadata": {},
   "outputs": [],
   "source": [
    "for atm_id in range(molecule.natm):\n",
    "    atm_symbol = molecule.atom_symbol(atm_id)\n",
    "    idx = molecule.search_ao_label(['%s.*'%(atm_symbol)])\n",
    "    print(idx)"
   ]
  },
  {
   "cell_type": "code",
   "execution_count": null,
   "metadata": {},
   "outputs": [],
   "source": [
    "from pyscf_util._atmMinCASOrb._orb_loader import LoadAtmHFOrbAllInfo, LoadAtmHFOrbGivenType\n",
    "from pyscf_util._atmMinCASOrb._maingroup import _MO_CONFIG"
   ]
  },
  {
   "cell_type": "code",
   "execution_count": null,
   "metadata": {},
   "outputs": [],
   "source": [
    "def Analysis_MO_Component(mol, mo_coeff, mo_energy, first_nmo=None, basis:dict[str,str]=None, verbose=True):\n",
    "    # step 1 fetch each atm lable, which should be uniqie #\n",
    "    atm_labels = []\n",
    "    for atm_id in range(mol.natm):\n",
    "        atm_symbol = mol.atom_symbol(atm_id)\n",
    "        atm_labels.append(atm_symbol)\n",
    "    assert len(atm_labels) == len(set(atm_labels))\n",
    "    # step 2 determine ncomp #\n",
    "    ncomp = 0\n",
    "    comp_key = []\n",
    "    for atm_label in atm_labels:\n",
    "        ncomp += len(_MO_CONFIG[_std_symbol(atm_label)]['orb_type'])\n",
    "        for orb_type in _MO_CONFIG[_std_symbol(atm_label)]['orb_type']:\n",
    "            key = \"%4s %2s\" % (atm_label, orb_type)\n",
    "            comp_key.append(key)\n",
    "    if verbose:\n",
    "        print(\"ncomp = \", ncomp)\n",
    "        print(\"comp_key = \", comp_key)\n",
    "    # step 3 calculate the res #\n",
    "    if first_nmo is None:\n",
    "        first_nmo = mol.nao\n",
    "    first_nmo = min(first_nmo, mol.nao)\n",
    "    mo_coeff = mo_coeff[:, :first_nmo]\n",
    "    res = numpy.ndarray((first_nmo, ncomp), dtype=numpy.float64)\n",
    "    icomp = 0\n",
    "    ovlp = mol.intor(\"int1e_ovlp\")\n",
    "    for atm_label in atm_labels:\n",
    "        idx = molecule.search_ao_label(['%s.*'%(atm_label)])\n",
    "        assert idx[-1]+1-idx[0]==len(idx)\n",
    "        for orb_type in _MO_CONFIG[_std_symbol(atm_label)]['orb_type']:\n",
    "            # fetch orb #\n",
    "            orb = LoadAtmHFOrbGivenType(atm_label, 0, basis[_std_symbol(atm_label)], with_sfx2c=True, orb_symbol=orb_type)\n",
    "            norb_loaded = orb.shape[1]\n",
    "            orb_in_mol = numpy.zeros((mol.nao, norb_loaded), dtype=numpy.float64)\n",
    "            orb_in_mol[idx[0]:idx[-1]+1, :] = orb\n",
    "            proj = numpy.dot(mo_coeff.T, numpy.dot(ovlp, orb_in_mol))\n",
    "            proj = np.square(proj)\n",
    "            row_sums = np.sum(proj, axis=1)\n",
    "            res[:, icomp] = row_sums\n",
    "            icomp += 1\n",
    "    return {\n",
    "        \"nmo\": first_nmo,\n",
    "        \"comp_key\": comp_key,\n",
    "        \"comp\": res,\n",
    "        \"mo_energy\":mo_energy[:first_nmo]\n",
    "    }\n"
   ]
  },
  {
   "cell_type": "code",
   "execution_count": null,
   "metadata": {},
   "outputs": [],
   "source": [
    "info = Analysis_MO_Component(molecule, hf_res.mo_coeff, hf_res.mo_energy, None, basis={\"C\":'cc-pvdz', \"O\":'cc-pvdz'})\n",
    "print(info)"
   ]
  },
  {
   "cell_type": "code",
   "execution_count": null,
   "metadata": {},
   "outputs": [],
   "source": [
    "import numpy as np\n",
    "from tabulate import tabulate\n",
    "\n",
    "def print_dict_as_table(data):\n",
    "    \"\"\"\n",
    "    Print the given dictionary as a formatted table, including MO energy.\n",
    "\n",
    "    Parameters:\n",
    "    data (dict): A dictionary containing 'nmo', 'comp_key', 'comp', and 'mo_energy' keys.\n",
    "                 'comp' should be a 2D numpy array of shape (nmo, len(comp_key)).\n",
    "                 'mo_energy' should be a 1D numpy array of length nmo.\n",
    "\n",
    "    Returns:\n",
    "    str: A string representation of the formatted table.\n",
    "    \"\"\"\n",
    "    nmo = data['nmo']\n",
    "    comp_key = data['comp_key']\n",
    "    comp = data['comp']\n",
    "    mo_energy = data['mo_energy']\n",
    "\n",
    "    # Ensure comp is a 2D numpy array\n",
    "    comp = np.array(comp).reshape(nmo, len(comp_key))\n",
    "\n",
    "    # Ensure mo_energy is a 1D numpy array\n",
    "    mo_energy = np.array(mo_energy).flatten()\n",
    "\n",
    "    # Create headers\n",
    "    headers = ['MO', 'Energy'] + comp_key\n",
    "\n",
    "    # Create table data\n",
    "    table_data = []\n",
    "    for i in range(nmo):\n",
    "        row = [f'MO {i+1}', mo_energy[i]] + list(comp[i])\n",
    "        table_data.append(row)\n",
    "\n",
    "    # Generate the table\n",
    "    table = tabulate(table_data, headers=headers, tablefmt='grid', floatfmt='.6f')\n",
    "    \n",
    "    return table"
   ]
  },
  {
   "cell_type": "code",
   "execution_count": null,
   "metadata": {},
   "outputs": [],
   "source": [
    "print(print_dict_as_table(info))"
   ]
  }
 ],
 "metadata": {
  "kernelspec": {
   "display_name": "pyscf_isdf",
   "language": "python",
   "name": "python3"
  },
  "language_info": {
   "codemirror_mode": {
    "name": "ipython",
    "version": 3
   },
   "file_extension": ".py",
   "mimetype": "text/x-python",
   "name": "python",
   "nbconvert_exporter": "python",
   "pygments_lexer": "ipython3",
   "version": "3.10.13"
  }
 },
 "nbformat": 4,
 "nbformat_minor": 2
}
