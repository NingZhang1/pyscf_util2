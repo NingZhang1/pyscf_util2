{
 "cells": [
  {
   "cell_type": "code",
   "execution_count": 1,
   "metadata": {},
   "outputs": [],
   "source": [
    "import sys\n",
    "sys.path.append('/home/ningzhangcaltech/Github_Repo/pyscf_util2')\n",
    "import pyscf_util.misc.mole as misc_mole\n",
    "from pyscf_util.MeanField.scf import kernel as scf_kernel"
   ]
  },
  {
   "cell_type": "code",
   "execution_count": 2,
   "metadata": {},
   "outputs": [
    {
     "name": "stdout",
     "output_type": "stream",
     "text": [
      "System: uname_result(system='Linux', node='NZhangCaltech', release='5.15.153.1-microsoft-standard-WSL2', version='#1 SMP Fri Mar 29 23:14:13 UTC 2024', machine='x86_64')  Threads 8\n",
      "Python 3.10.13 (main, Sep 11 2023, 13:44:35) [GCC 11.2.0]\n",
      "numpy 1.26.3  scipy 1.14.0  h5py 3.9.0\n",
      "Date: Sat Sep  7 11:18:40 2024\n",
      "PySCF version 2.6.2\n",
      "PySCF path  /home/ningzhangcaltech/Github_Repo/pyscf_isdf\n",
      "GIT ORIG_HEAD 694b88c24cce2de728afad9a3e052ea89dee75d9\n",
      "GIT HEAD      ca8c7c1680defdfee2380eda3af3a28d9fb375cb\n",
      "\n",
      "[ENV] PYSCF_EXT_PATH /home/ningzhangcaltech/Github_Repo/pyscf_forge_branch2/pyscf-forge\n",
      "[CONFIG] conf_file None\n",
      "[INPUT] verbose = 4\n",
      "[INPUT] num. atoms = 2\n",
      "[INPUT] num. electrons = 14\n",
      "[INPUT] charge = 0\n",
      "[INPUT] spin (= nelec alpha-beta = 2S) = 0\n",
      "[INPUT] symmetry C2v subgroup None\n",
      "[INPUT] Mole.unit = angstorm\n",
      "[INPUT] Symbol           X                Y                Z      unit          X                Y                Z       unit  Magmom\n",
      "[INPUT]  1 C      0.000000000000   0.000000000000  -0.621265000000 AA    0.000000000000   0.000000000000  -1.174020700778 Bohr   0.0\n",
      "[INPUT]  2 O      0.000000000000   0.000000000000   0.621265000000 AA    0.000000000000   0.000000000000   1.174020700778 Bohr   0.0\n",
      "\n",
      "nuclear repulsion = 20.4425696958303\n",
      "point group symmetry = Coov, use subgroup C2v\n",
      "symmetry origin: [0.         0.         0.16771724]\n",
      "symmetry axis x: [1. 0. 0.]\n",
      "symmetry axis y: [0. 1. 0.]\n",
      "symmetry axis z: [0. 0. 1.]\n",
      "num. orbitals of irrep A1 = 14\n",
      "num. orbitals of irrep A2 = 2\n",
      "num. orbitals of irrep B1 = 6\n",
      "num. orbitals of irrep B2 = 6\n",
      "number of shells = 10\n",
      "number of NR pGTOs = 52\n",
      "number of NR cGTOs = 28\n",
      "basis = cc-pvdz\n",
      "ecp = {}\n",
      "CPU time:         1.52\n"
     ]
    }
   ],
   "source": [
    "CO_mol = misc_mole.get_mol(\n",
    "    xyz=\"\"\"\n",
    "            C   0.000000000000       0.000000000000      -0.621265\n",
    "            O   0.000000000000       0.000000000000       0.621265\n",
    "        \"\"\",\n",
    "    basis=\"cc-pvdz\",\n",
    "    symmetry=\"C2v\"\n",
    ")"
   ]
  },
  {
   "cell_type": "code",
   "execution_count": 3,
   "metadata": {},
   "outputs": [
    {
     "name": "stdout",
     "output_type": "stream",
     "text": [
      "\n",
      "\n",
      "******** <class 'pyscf.scf.hf_symm.SymAdaptedROHF'> ********\n",
      "method = SymAdaptedROHF\n",
      "initial guess = minao\n",
      "damping factor = 0\n",
      "level_shift factor = 0\n",
      "DIIS = <class 'pyscf.scf.diis.CDIIS'>\n",
      "diis_start_cycle = 1\n",
      "diis_space = 8\n",
      "diis_damp = 0\n",
      "SCF conv_tol = 1e-09\n",
      "SCF conv_tol_grad = None\n",
      "SCF max_cycles = 50\n",
      "direct_scf = True\n",
      "direct_scf_tol = 1e-13\n",
      "chkfile to save SCF result = /tmp/tmpd172miwk\n",
      "max_memory 4000 MB (current use 155 MB)\n",
      "num. doubly occ = 7  num. singly occ = 0\n",
      "Freeze 0 electrons in irreps []\n",
      "    14 free electrons in irreps A1 A2 B1 B2\n",
      "Set gradient conv threshold to 3.16228e-05\n",
      "init E= -112.507758468437\n",
      "HOMO (A1) = -0.354209539424674  LUMO (B2) = 0.0341459974956014\n",
      "cycle= 1 E= -112.619405483703  delta_E= -0.112  |g|= 0.629  |ddm|= 1.05\n",
      "HOMO (B2) = -0.523172845139626  LUMO (B1) = 0.0707388034926367\n",
      "cycle= 2 E= -112.624750157285  delta_E= -0.00534  |g|= 0.68  |ddm|= 0.572\n",
      "HOMO (A1) = -0.565755458219094  LUMO (B1) = 0.0941633169090851\n",
      "cycle= 3 E= -112.713547003085  delta_E= -0.0888  |g|= 0.0361  |ddm|= 0.257\n",
      "HOMO (A1) = -0.555130793547244  LUMO (B2) = 0.111864696542656\n",
      "cycle= 4 E= -112.713974929449  delta_E= -0.000428  |g|= 0.00939  |ddm|= 0.0277\n",
      "HOMO (A1) = -0.558282976865478  LUMO (B1) = 0.110308892447618\n",
      "cycle= 5 E= -112.714009139323  delta_E= -3.42e-05  |g|= 0.00123  |ddm|= 0.0109\n",
      "HOMO (A1) = -0.558276908035992  LUMO (B1) = 0.110095577454178\n",
      "cycle= 6 E= -112.714009574551  delta_E= -4.35e-07  |g|= 0.000397  |ddm|= 0.00113\n",
      "HOMO (A1) = -0.558336145287443  LUMO (B2) = 0.110075857127083\n",
      "cycle= 7 E= -112.714009631366  delta_E= -5.68e-08  |g|= 0.000127  |ddm|= 0.000389\n",
      "HOMO (A1) = -0.558323493444969  LUMO (B2) = 0.110083262888696\n",
      "cycle= 8 E= -112.714009639039  delta_E= -7.67e-09  |g|= 1.53e-05  |ddm|= 0.000164\n",
      "HOMO (A1) = -0.558325557651226  LUMO (B2) = 0.110079125888672\n",
      "cycle= 9 E= -112.714009639154  delta_E= -1.15e-10  |g|= 1.1e-06  |ddm|= 1.84e-05\n",
      "HOMO (A1) = -0.558325455751913  LUMO (B1) = 0.11007930009445\n",
      "Extra cycle  E= -112.714009639155  delta_E= -3.98e-13  |g|= 4.33e-07  |ddm|= 1.31e-06\n",
      "converged SCF energy = -112.714009639155\n"
     ]
    }
   ],
   "source": [
    "hf_res = scf_kernel(CO_mol)"
   ]
  },
  {
   "cell_type": "code",
   "execution_count": 4,
   "metadata": {},
   "outputs": [
    {
     "name": "stdout",
     "output_type": "stream",
     "text": [
      "[-20.66966036 -11.41179207  -1.44716239  -0.79273746  -0.58869431\n",
      "  -0.58869431  -0.55832546   0.1100793    0.1100793    0.37090249\n",
      "   0.66782936   0.66782936   0.71324982   0.84505711   1.08573833\n",
      "   1.24065207   1.24065207   1.34007095   1.34007095   1.4791176\n",
      "   1.4791176    1.94086756   2.1403164    2.92869299   2.92869299\n",
      "   3.31955517   3.31955517   3.70748755]\n"
     ]
    }
   ],
   "source": [
    "print(hf_res.mo_energy)"
   ]
  },
  {
   "cell_type": "code",
   "execution_count": 5,
   "metadata": {},
   "outputs": [
    {
     "name": "stdout",
     "output_type": "stream",
     "text": [
      "[[ 3.85986996e-04  9.99993275e-01  4.70796974e-04 -9.93149743e-04\n",
      "   0.00000000e+00  0.00000000e+00  2.92819101e-03  0.00000000e+00\n",
      "   0.00000000e+00  5.79412992e-04  0.00000000e+00  0.00000000e+00\n",
      "   1.83070922e-04 -9.65203352e-04 -1.07743644e-03  0.00000000e+00\n",
      "   0.00000000e+00 -1.82402859e-18  0.00000000e+00  0.00000000e+00\n",
      "   0.00000000e+00  7.84508546e-04  4.95870045e-04 -5.64763184e-20\n",
      "   0.00000000e+00  0.00000000e+00  0.00000000e+00  4.42488100e-04]]\n"
     ]
    }
   ],
   "source": [
    "import numpy as np\n",
    "C_1s = CO_mol.search_ao_label(\"C 1s\")\n",
    "C_2s = CO_mol.search_ao_label(\"C 2s\")\n",
    "ao = np.zeros((CO_mol.nao, len(C_1s)))\n",
    "for icol, irow in enumerate(C_1s):\n",
    "    ao[irow, icol] = 1.0\n",
    "ovlp = hf_res.get_ovlp()\n",
    "print(np.dot(ao.T, np.dot(ovlp, hf_res.mo_coeff)))"
   ]
  },
  {
   "cell_type": "code",
   "execution_count": 9,
   "metadata": {},
   "outputs": [
    {
     "name": "stdout",
     "output_type": "stream",
     "text": [
      "[14]\n",
      "[[9.99996519e-01 1.29935996e-05 1.71255676e-03]]\n"
     ]
    }
   ],
   "source": [
    "O_1s = CO_mol.search_ao_label(\"O 1s\")\n",
    "print(O_1s)\n",
    "ao = np.zeros((CO_mol.nao, len(O_1s)))\n",
    "for icol, irow in enumerate(O_1s):\n",
    "    ao[irow, icol] = 1.0\n",
    "ovlp = hf_res.get_ovlp()\n",
    "# print(np.dot(ao.T, np.dot(ovlp, ao)))\n",
    "print(np.dot(ao.T, np.dot(ovlp, hf_res.mo_coeff[:, :3])))"
   ]
  }
 ],
 "metadata": {
  "kernelspec": {
   "display_name": "pyscf_isdf",
   "language": "python",
   "name": "python3"
  },
  "language_info": {
   "codemirror_mode": {
    "name": "ipython",
    "version": 3
   },
   "file_extension": ".py",
   "mimetype": "text/x-python",
   "name": "python",
   "nbconvert_exporter": "python",
   "pygments_lexer": "ipython3",
   "version": "3.10.13"
  }
 },
 "nbformat": 4,
 "nbformat_minor": 2
}
