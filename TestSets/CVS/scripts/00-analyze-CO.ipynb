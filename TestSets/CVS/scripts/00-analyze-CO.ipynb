{
 "cells": [
  {
   "cell_type": "code",
   "execution_count": 67,
   "metadata": {},
   "outputs": [],
   "source": [
    "from pyscf_util.misc.mole import get_mol\n",
    "from pyscf_util.MeanField.scf import kernel as scf\n",
    "from pyscf.tools import mo_mapping\n",
    "import numpy"
   ]
  },
  {
   "cell_type": "code",
   "execution_count": 68,
   "metadata": {},
   "outputs": [
    {
     "name": "stdout",
     "output_type": "stream",
     "text": [
      "System: uname_result(system='Linux', node='NZhangCaltech', release='5.15.153.1-microsoft-standard-WSL2', version='#1 SMP Fri Mar 29 23:14:13 UTC 2024', machine='x86_64')  Threads 8\n",
      "Python 3.10.13 (main, Sep 11 2023, 13:44:35) [GCC 11.2.0]\n",
      "numpy 1.26.3  scipy 1.14.0  h5py 3.9.0\n",
      "Date: Wed Sep 11 22:06:23 2024\n",
      "PySCF version 2.6.2\n",
      "PySCF path  /home/ningzhangcaltech/miniconda3/envs/pyscf_isdf/lib/python3.10/site-packages/pyscf\n",
      "\n",
      "[ENV] PYSCF_EXT_PATH /home/ningzhangcaltech/Github_Repo/pyscf_forge_branch2/pyscf-forge\n",
      "[CONFIG] conf_file None\n",
      "[INPUT] verbose = 4\n",
      "[INPUT] num. atoms = 2\n",
      "[INPUT] num. electrons = 14\n",
      "[INPUT] charge = 0\n",
      "[INPUT] spin (= nelec alpha-beta = 2S) = 0\n",
      "[INPUT] symmetry  subgroup None\n",
      "[INPUT] Mole.unit = Bohr\n",
      "[INPUT] Symbol           X                Y                Z      unit          X                Y                Z       unit  Magmom\n",
      "[INPUT]  1 C1     0.000000000000   0.000000000000   0.001271083661 AA    0.000000000000   0.000000000000   0.002402000000 Bohr   0.0\n",
      "[INPUT]  2 O2     0.000000000000   0.000000000000   1.127128916890 AA    0.000000000000   0.000000000000   2.129964960000 Bohr   0.0\n",
      "\n",
      "nuclear repulsion = 22.5610244690479\n",
      "number of shells = 10\n",
      "number of NR pGTOs = 52\n",
      "number of NR cGTOs = 28\n",
      "basis = cc-pvdz\n",
      "ecp = {}\n",
      "CPU time:        67.36\n"
     ]
    }
   ],
   "source": [
    "molecule = get_mol(\n",
    "    xyz=\"\"\"\n",
    "C1 0.         0.         0.002402  \n",
    "O2 0.         0.         2.12996496\n",
    "\"\"\",\n",
    "    spin=0,\n",
    "    charge=0,\n",
    "    basis=\"cc-pvdz\",\n",
    "    unit=\"Bohr\",\n",
    ")"
   ]
  },
  {
   "cell_type": "code",
   "execution_count": 69,
   "metadata": {},
   "outputs": [
    {
     "name": "stdout",
     "output_type": "stream",
     "text": [
      "\n",
      "\n",
      "******** <class 'pyscf.scf.rohf.ROHF'> ********\n",
      "method = ROHF\n",
      "initial guess = minao\n",
      "damping factor = 0\n",
      "level_shift factor = 0\n",
      "DIIS = <class 'pyscf.scf.diis.CDIIS'>\n",
      "diis_start_cycle = 1\n",
      "diis_space = 8\n",
      "diis_damp = 0\n",
      "SCF conv_tol = 1e-09\n",
      "SCF conv_tol_grad = None\n",
      "SCF max_cycles = 50\n",
      "direct_scf = True\n",
      "direct_scf_tol = 1e-13\n",
      "chkfile to save SCF result = /tmp/tmp69ocgosi\n",
      "max_memory 4000 MB (current use 180 MB)\n",
      "num. doubly occ = 7  num. singly occ = 0\n",
      "Set gradient conv threshold to 3.16228e-05\n",
      "init E= -112.825337806867\n",
      "  HOMO = -0.359403336165144  LUMO = 0.0617823941578756\n",
      "cycle= 1 E= -112.692092156013  delta_E= 0.133  |g|= 0.509  |ddm|=  1.1\n",
      "  HOMO = -0.587063533243692  LUMO = 0.128924809688762\n",
      "cycle= 2 E= -112.716390791966  delta_E= -0.0243  |g|= 0.426  |ddm|= 0.417\n",
      "  HOMO = -0.554479223020722  LUMO = 0.145565090923648\n",
      "cycle= 3 E= -112.749199106698  delta_E= -0.0328  |g|= 0.0323  |ddm|= 0.165\n",
      "  HOMO = -0.546115549292335  LUMO = 0.157356818134905\n",
      "cycle= 4 E= -112.749481821794  delta_E= -0.000283  |g|= 0.00701  |ddm|= 0.0223\n",
      "  HOMO = -0.548604004654549  LUMO = 0.155665844707606\n",
      "cycle= 5 E= -112.749497386731  delta_E= -1.56e-05  |g|= 0.000677  |ddm|= 0.00696\n",
      "  HOMO = -0.548531525697675  LUMO = 0.155594395932141\n",
      "cycle= 6 E= -112.749497518912  delta_E= -1.32e-07  |g|= 0.000125  |ddm|= 0.000567\n",
      "  HOMO = -0.548541347176799  LUMO = 0.155607236355116\n",
      "cycle= 7 E= -112.749497524379  delta_E= -5.47e-09  |g|= 3.79e-05  |ddm|= 9.96e-05\n",
      "  HOMO = -0.548533373403438  LUMO = 0.155611832446639\n",
      "cycle= 8 E= -112.749497524864  delta_E= -4.84e-10  |g|= 6.85e-06  |ddm|= 3.4e-05\n",
      "  HOMO = -0.54853376709039  LUMO = 0.155610989038286\n",
      "Extra cycle  E= -112.749497524876  delta_E= -1.28e-11  |g|= 2.76e-06  |ddm|= 6.34e-06\n",
      "converged SCF energy = -112.749497524876\n"
     ]
    }
   ],
   "source": [
    "hf = scf(molecule, sfx1e=False, run=True)"
   ]
  },
  {
   "cell_type": "code",
   "execution_count": 70,
   "metadata": {},
   "outputs": [
    {
     "name": "stdout",
     "output_type": "stream",
     "text": [
      "\n",
      "WARN: Required orbitals are not found\n",
      "\n",
      "[0. 0. 0. 0. 0. 0. 0. 0. 0. 0. 0. 0. 0. 0. 0. 0. 0. 0. 0. 0. 0. 0. 0. 0.\n",
      " 0. 0. 0. 0.]\n",
      "rank  Mol ID comp\n"
     ]
    }
   ],
   "source": [
    "# core orb #\n",
    "comp = mo_mapping.mo_comps(\"C 1s\", molecule, hf.mo_coeff)\n",
    "print(comp)\n",
    "print(\"rank  Mol ID comp\")\n",
    "for i, j in enumerate(numpy.argsort(-comp)):\n",
    "    if comp[j] < 1e-3:\n",
    "        break\n",
    "    print(\"%4s  %6s %6.2e\" % (i, j, comp[j]))"
   ]
  },
  {
   "cell_type": "code",
   "execution_count": 71,
   "metadata": {},
   "outputs": [
    {
     "name": "stdout",
     "output_type": "stream",
     "text": [
      "\n",
      "WARN: Required orbitals are not found\n",
      "\n",
      "[0. 0. 0. 0. 0. 0. 0. 0. 0. 0. 0. 0. 0. 0. 0. 0. 0. 0. 0. 0. 0. 0. 0. 0.\n",
      " 0. 0. 0. 0.]\n",
      "rank  Mol ID comp\n"
     ]
    }
   ],
   "source": [
    "# core orb #\n",
    "comp = mo_mapping.mo_comps(\"O 2s\", molecule, hf.mo_coeff)\n",
    "print(comp)\n",
    "print(\"rank  Mol ID comp\")\n",
    "for i, j in enumerate(numpy.argsort(-comp)):\n",
    "    if comp[j] < 1e-3:\n",
    "        break\n",
    "    print(\"%4s  %6s %6.2e\" % (i, j, comp[j]))"
   ]
  },
  {
   "cell_type": "code",
   "execution_count": 72,
   "metadata": {},
   "outputs": [
    {
     "name": "stdout",
     "output_type": "stream",
     "text": [
      "\n",
      "WARN: Required orbitals are not found\n",
      "\n",
      "[0. 0. 0. 0. 0. 0. 0. 0. 0. 0. 0. 0. 0. 0. 0. 0. 0. 0. 0. 0. 0. 0. 0. 0.\n",
      " 0. 0. 0. 0.]\n",
      "rank  Mol ID comp\n"
     ]
    }
   ],
   "source": [
    "# sigma orb #\n",
    "comp = mo_mapping.mo_comps(\"C 2pz\", molecule, hf.mo_coeff)\n",
    "print(comp)\n",
    "print(\"rank  Mol ID comp\")\n",
    "for i, j in enumerate(numpy.argsort(-comp)):\n",
    "    if comp[j] < 1e-3:\n",
    "        break\n",
    "    print(\"%4s  %6s %6.2e\" % (i, j, comp[j]))"
   ]
  },
  {
   "cell_type": "code",
   "execution_count": 73,
   "metadata": {},
   "outputs": [
    {
     "name": "stdout",
     "output_type": "stream",
     "text": [
      "\n",
      "WARN: Required orbitals are not found\n",
      "\n",
      "[0. 0. 0. 0. 0. 0. 0. 0. 0. 0. 0. 0. 0. 0. 0. 0. 0. 0. 0. 0. 0. 0. 0. 0.\n",
      " 0. 0. 0. 0.]\n",
      "rank  Mol ID comp\n"
     ]
    }
   ],
   "source": [
    "# pi orb #\n",
    "comp = mo_mapping.mo_comps(\"O 2px\", molecule, hf.mo_coeff)\n",
    "print(comp)\n",
    "print(\"rank  Mol ID comp\")\n",
    "for i, j in enumerate(numpy.argsort(-comp)):\n",
    "    if comp[j] < 1e-3:\n",
    "        break\n",
    "    print(\"%4s  %6s %6.2e\" % (i, j, comp[j]))"
   ]
  },
  {
   "cell_type": "markdown",
   "metadata": {},
   "source": [
    "#### 似乎用 comp 分析不出来啥 ####"
   ]
  },
  {
   "cell_type": "code",
   "execution_count": 75,
   "metadata": {},
   "outputs": [
    {
     "data": {
      "text/plain": [
       "'C1'"
      ]
     },
     "execution_count": 75,
     "metadata": {},
     "output_type": "execute_result"
    }
   ],
   "source": [
    "molecule.atom_symbol(0)"
   ]
  }
 ],
 "metadata": {
  "kernelspec": {
   "display_name": "pyscf_isdf",
   "language": "python",
   "name": "python3"
  },
  "language_info": {
   "codemirror_mode": {
    "name": "ipython",
    "version": 3
   },
   "file_extension": ".py",
   "mimetype": "text/x-python",
   "name": "python",
   "nbconvert_exporter": "python",
   "pygments_lexer": "ipython3",
   "version": "3.10.13"
  }
 },
 "nbformat": 4,
 "nbformat_minor": 2
}
